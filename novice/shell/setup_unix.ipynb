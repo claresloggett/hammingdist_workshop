{
 "metadata": {
  "name": "",
  "signature": "sha256:3633b7d20fbc8e5548ad8af16eecd648c3896f9b7c07b2c1022ab4823c802cfa"
 },
 "nbformat": 3,
 "nbformat_minor": 0,
 "worksheets": [
  {
   "cells": [
    {
     "cell_type": "heading",
     "level": 1,
     "metadata": {},
     "source": [
      "Introduction to the Unix Shell: Setup"
     ]
    },
    {
     "cell_type": "markdown",
     "metadata": {},
     "source": [
      "For this part of the workshop, we'd like to use your own Research Cloud instance.\n",
      "\n",
      "If your computer is Mac or Linux, you can also just use your own computer - on Mac, open the application Terminal. You are now set up! You can optionally now do the **Get the example filesystem**, below (this is recommended).\n",
      "\n",
      "If don't have a working Research Cloud instance *and* you are on Windows, your options are a bit more complicated - ask a demonstrator for help. It's possible to install Git Bash and do this workshop that way, but if you are not set up and this is too slow, feel free to just pair up with someone near you instead."
     ]
    },
    {
     "cell_type": "heading",
     "level": 3,
     "metadata": {},
     "source": [
      "Research Cloud instance login"
     ]
    },
    {
     "cell_type": "markdown",
     "metadata": {},
     "source": [
      "If you have a working Research Cloud instance, it's a good choice for this part of the workshop."
     ]
    },
    {
     "cell_type": "markdown",
     "metadata": {},
     "source": [
      "For this option you'll need to know the IP address and password of your instance. If you're on Windows, you'll also need Putty installed.\n",
      "\n",
      "If you're on Windows, to use ssh you'll need to run Putty and enter the address `researcher@<your-ip-address>` (where `<your-ip-address>` is replaced by the address of your instance), and connect.\n",
      "\n",
      "If you're on Mac or Linux you'll need to open a terminal and run\n",
      "\n",
      "    ssh researcher@<your-ip-address>\n",
      "\n",
      "(where `<your-ip-address>` is replaced by the address of your instance)."
     ]
    },
    {
     "cell_type": "heading",
     "level": 3,
     "metadata": {},
     "source": [
      "Get the example filesystem"
     ]
    },
    {
     "cell_type": "markdown",
     "metadata": {},
     "source": [
      "Once you're logged into a shell, either on your local computer or your Research Cloud instance, run the following commands:\n",
      "\n",
      "    git clone https://github.com/claresloggett/hammingdist_workshop -b gh-pages\n",
      "\n",
      "This will get you the source documents for this workshop, including an example directory structure that you can use in the Unix lessons. If the `git` command doesn't work, you are probably on your local computer and don't have it installed. If you don't have a Research Cloud instance to use, ask a demonstrator for help. \n",
      "\n",
      "Now run:\n",
      "\n",
      "    cd hammingdist_workshop/filesystem/users/nelle/\n",
      "\n",
      "This `cd` command will put you inside the example directory structure and will help make the next lesson more clear."
     ]
    }
   ],
   "metadata": {}
  }
 ]
}