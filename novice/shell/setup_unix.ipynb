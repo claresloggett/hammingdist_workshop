{
 "cells": [
  {
   "cell_type": "markdown",
   "metadata": {},
   "source": [
    "# Introduction to the Unix Shell: Setup"
   ]
  },
  {
   "cell_type": "markdown",
   "metadata": {},
   "source": [
    "For this workshop, we'll use the servers we set up in Week 1. You will need the IP address of the server that you have an account on. You'll also need your username and the password you set in Week 1. \n",
    "\n",
    "Your server IP address depends on the first letter of your username. They are:\n",
    "\n",
    "- username starts with a-g: 115.146.85.246\n",
    "- username starts with h-n: 144.6.225.106\n",
    "- username starts with o-z: 130.56.249.93\n",
    "\n",
    "If your computer is Mac or Linux, you can also just use your own computer if you prefer - if you want to do this on Mac, open the application Terminal. You are now set up! You can optionally now do the **Get the example filesystem**, below (this is recommended). You will need `git` installed for this."
   ]
  },
  {
   "cell_type": "markdown",
   "metadata": {},
   "source": [
    "### Server login"
   ]
  },
  {
   "cell_type": "markdown",
   "metadata": {},
   "source": [
    "If you haven't done the [Week 1 lab](https://docs.google.com/document/d/1AkIa23Gz4XVmLBLoBD6oZPKdWJdI6Q2hj95JZ1FueIk/preview), you should do Part 1 of that lab now to set your linux password, before you continue. Don't worry about Part 2."
   ]
  },
  {
   "cell_type": "markdown",
   "metadata": {},
   "source": [
    "You'll need to know the IP address of your instance (see above). If you're on Windows, you'll also need Putty installed.\n",
    "\n",
    "If you're on Windows, to use ssh you'll need to run Putty and enter the address `<your-username>@<your-ip-address>` (where `<your-username>` is replaced by your own username, and `<your-ip-address>` is replaced by the address of your instance), and connect.\n",
    "\n",
    "If you're on Mac or Linux you'll need to open a terminal and type\n",
    "\n",
    "    ssh <your-username>@<your-ip-address>\n",
    "\n",
    "(where `<your-username>` is replaced by your own username, and `<your-ip-address>` is replaced by the address of your instance)."
   ]
  },
  {
   "cell_type": "markdown",
   "metadata": {},
   "source": [
    "### Get the example filesystem"
   ]
  },
  {
   "cell_type": "markdown",
   "metadata": {},
   "source": [
    "Once you're logged into a shell, either on your local computer or a server, run the following commands:\n",
    "\n",
    "    git clone https://github.com/claresloggett/hammingdist_workshop -b gh-pages\n",
    "\n",
    "This will get you the source documents for this workshop, including an example directory structure that you can use in the Unix lessons. If the `git` command doesn't work, you are probably on your local computer and don't have it installed. You can use the server instead, or ask a demonstrator for help. \n",
    "\n",
    "Now run:\n",
    "\n",
    "    cd hammingdist_workshop/filesystem/users/nelle/\n",
    "\n",
    "This `cd` command will put you inside the example directory structure and will help make the next lesson more clear."
   ]
  }
 ],
 "metadata": {
  "kernelspec": {
   "display_name": "Python 2",
   "language": "python",
   "name": "python2"
  },
  "language_info": {
   "codemirror_mode": {
    "name": "ipython",
    "version": 2
   },
   "file_extension": ".py",
   "mimetype": "text/x-python",
   "name": "python",
   "nbconvert_exporter": "python",
   "pygments_lexer": "ipython2",
   "version": "2.7.10"
  }
 },
 "nbformat": 4,
 "nbformat_minor": 0
}
