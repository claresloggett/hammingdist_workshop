{
 "metadata": {
  "name": "",
  "signature": "sha256:8ff898cb384b9b13e88bfc932393067329300afe45f38f95b57135e80475114d"
 },
 "nbformat": 3,
 "nbformat_minor": 0,
 "worksheets": [
  {
   "cells": [
    {
     "cell_type": "heading",
     "level": 1,
     "metadata": {},
     "source": [
      "Introduction to the Unix Shell: Setup"
     ]
    },
    {
     "cell_type": "markdown",
     "metadata": {},
     "source": [
      "For this part of the workshop, we'd like to use your own Research Cloud instance.\n",
      "\n",
      "If your computer is Mac or Linux, you can also just use your own computer - on Mac, open the application Terminal. You are now finished setup! You can move to the next document.\n",
      "\n",
      "If don't have a working Research Cloud instance *and* you are on Windows, your options are a bit more complicated - ask a demonstrator for help. It's possible to install Git Bash and do this workshop that way, but if you are not set up and this is too slow, feel free to just pair up with someone near you instead."
     ]
    },
    {
     "cell_type": "heading",
     "level": 3,
     "metadata": {},
     "source": [
      "Research Cloud instance login"
     ]
    },
    {
     "cell_type": "markdown",
     "metadata": {},
     "source": [
      "If you have a working Research Cloud instance, it's a good choice for this part of the workshop."
     ]
    },
    {
     "cell_type": "markdown",
     "metadata": {},
     "source": [
      "For this option you'll need to know the IP address and password of your instance. If you're on Windows, you'll also need Putty installed.\n",
      "\n",
      "If you're on Windows, to use ssh you'll need to run Putty and enter the address `researcher@<your-ip-address>` (where `<your-ip-address>` is replaced by the address of your instance), and connect.\n",
      "\n",
      "If you're on Mac or Linux you'll need to open a terminal and run\n",
      "\n",
      "    ssh researcher@<your-ip-address>\n",
      "\n",
      "(where `<your-ip-address>` is replaced by the address of your instance)."
     ]
    },
    {
     "cell_type": "markdown",
     "metadata": {},
     "source": [
      "If you're able to successfully log in, you're set up."
     ]
    }
   ],
   "metadata": {}
  }
 ]
}