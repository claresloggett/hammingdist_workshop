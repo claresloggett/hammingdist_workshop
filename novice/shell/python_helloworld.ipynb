{
 "metadata": {
  "name": "",
  "signature": "sha256:1b263bf4b3c4d889f0a1a4d4d619453401720a83d785d6bdf7feb9eec537419d"
 },
 "nbformat": 3,
 "nbformat_minor": 0,
 "worksheets": [
  {
   "cells": [
    {
     "cell_type": "heading",
     "level": 1,
     "metadata": {},
     "source": [
      "Running Python from the shell"
     ]
    },
    {
     "cell_type": "markdown",
     "metadata": {},
     "source": [
      "In the previous section, you used used a text editor to create a file."
     ]
    },
    {
     "cell_type": "markdown",
     "metadata": {},
     "source": [
      "Let's create a file again, and this time write some Python. Don't worry if you don't know Python yet - this will be a very simple program!\n",
      "\n",
      "Using the text editor you used in the last section, create a new file called `hello.py`. If you are using nano, do this by typing\n",
      "\n",
      "    nano hello.py"
     ]
    },
    {
     "cell_type": "markdown",
     "metadata": {},
     "source": [
      "Inside this file, just type one line:\n",
      "\n",
      "    print \"Hello world!\""
     ]
    },
    {
     "cell_type": "markdown",
     "metadata": {},
     "source": [
      "Then save the file and return to the command line. Check that your new file is there and that it contains what you expect by running\n",
      "\n",
      "    ls\n",
      "\n",
      "and then\n",
      "\n",
      "    cat hello.py"
     ]
    },
    {
     "cell_type": "markdown",
     "metadata": {},
     "source": [
      "The line we put in the file, `print \"Hello world!\"` is actually a line of Python code. If we give this command to Python, it will do what you might guess: print out the string \"Hello world!\". The file `hello.py` is now actually a one-line program.\n",
      "\n",
      "To tell Python to run this program, on the command line enter\n",
      "\n",
      "    python hello.py"
     ]
    },
    {
     "cell_type": "markdown",
     "metadata": {},
     "source": [
      "If Python is installed on the computer, this should run your program!\n",
      "\n",
      "When you've learned how to write more advanced Python code, you can turn it into a file in exactly the same way, and use the algorithms you write to analyse your data from the shell."
     ]
    }
   ],
   "metadata": {}
  }
 ]
}