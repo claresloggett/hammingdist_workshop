{
 "cells": [
  {
   "cell_type": "markdown",
   "metadata": {},
   "source": [
    "# Introductory Programming: Setup"
   ]
  },
  {
   "cell_type": "markdown",
   "metadata": {},
   "source": [
    "The most straightforward way to write a Python program is to write your program in a text file, and run the program from the command line. If you have not already, you will do this during the Unix workshop.\n",
    "\n",
    "But for this workshop, we'll use a web-based Python environment called JupyterHub so that we can try out bits of program code faster."
   ]
  },
  {
   "cell_type": "markdown",
   "metadata": {},
   "source": [
    "For this workshop, we'll use the servers we set up in Week 1. You will need the IP address of the server that you have an account on. You'll also need your username and the password you set in Week 1. If you haven't done the [Week 1 lab](https://docs.google.com/document/d/1AkIa23Gz4XVmLBLoBD6oZPKdWJdI6Q2hj95JZ1FueIk/preview), you should do Part 1 of that lab now to set your linux password, before you continue.\n",
    "\n",
    "Your server IP address depends on the first letter of your username. They are:\n",
    "\n",
    "- username starts with a-g: 115.146.85.246\n",
    "- username starts with h-n: 144.6.225.106\n",
    "- username starts with o-z: 130.56.249.93"
   ]
  },
  {
   "cell_type": "markdown",
   "metadata": {},
   "source": [
    "### JupyterHub on our servers"
   ]
  },
  {
   "cell_type": "markdown",
   "metadata": {},
   "source": [
    "Open a web browser (use Chrome or Firefox) and enter the URL `http://<ip-address>/jupyter` , remembering to replace `<ip-address>` with the address of the right server for you. It should be one of these links:\n",
    "\n",
    "- http://115.146.85.246/jupyter\n",
    "- http://144.6.225.106/jupyter\n",
    "- http://130.56.249.93/jupyter"
   ]
  },
  {
   "cell_type": "markdown",
   "metadata": {},
   "source": [
    "This should get you to JupyterHub. This is a web-based Python programming environment. You can log in with the same username and password you used when you used ssh to connect to linux - this is the password you set in Week 1.\n",
    "\n",
    "Once you're logged in, you should see a listing of the files and directories in your home directory on the server. At the top right of the window is a button labelled **New**, which will open a drop-down menu. Open this drop-down menu and select **Python 2** to start a new Notebook using Python 2. \n",
    "\n",
    "You're now set up and can go on to the workshop exercises."
   ]
  },
  {
   "cell_type": "markdown",
   "metadata": {},
   "source": [
    "### IPython Notebook on your Laptop"
   ]
  },
  {
   "cell_type": "markdown",
   "metadata": {},
   "source": [
    "If you prefer, and have Python installed on your laptop, you may be able to run IPython Notebook (Jupyter) there instead of logging in to the server. On Mac or Linux, open a terminal and type\n",
    "\n",
    "    ipython notebook\n",
    "\n",
    "If everything is installed, this will launch IPython Notebook in a web browser. Click \"New Notebook\", and you're done."
   ]
  }
 ],
 "metadata": {
  "kernelspec": {
   "display_name": "Python 2",
   "language": "python",
   "name": "python2"
  },
  "language_info": {
   "codemirror_mode": {
    "name": "ipython",
    "version": 2
   },
   "file_extension": ".py",
   "mimetype": "text/x-python",
   "name": "python",
   "nbconvert_exporter": "python",
   "pygments_lexer": "ipython2",
   "version": "2.7.10"
  }
 },
 "nbformat": 4,
 "nbformat_minor": 0
}
